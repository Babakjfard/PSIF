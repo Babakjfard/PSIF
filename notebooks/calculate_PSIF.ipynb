{
 "cells": [
  {
   "cell_type": "code",
   "execution_count": 1,
   "id": "43600fc3",
   "metadata": {},
   "outputs": [],
   "source": [
    "# This is a step needed in jupyetr notebooks\n",
    "# prepackaging of psif_lib library. After that it is not needed\n",
    "import sys, os\n",
    "sys.path.append(os.path.abspath(os.path.join(os.getcwd(), '..')))"
   ]
  },
  {
   "cell_type": "code",
   "execution_count": 2,
   "id": "f1dcf925",
   "metadata": {},
   "outputs": [],
   "source": [
    "import xarray as xr\n",
    "from psif_lib import data_access\n",
    "import psif_lib.wind_utils as wu\n",
    "import psif_lib.processing as pr\n",
    "import psif_lib.geo_helpers as geo"
   ]
  },
  {
   "cell_type": "code",
   "execution_count": 3,
   "id": "8d199ef7",
   "metadata": {},
   "outputs": [],
   "source": [
    "import os\n",
    "import pandas as pd\n",
    "\n",
    "def project_root():\n",
    "    # Handles both script (__file__) and notebook (cwd) context\n",
    "    if '__file__' in globals():\n",
    "        return os.path.dirname(os.path.abspath(__file__))\n",
    "    else:\n",
    "        return os.path.abspath(os.path.join(os.getcwd(), '..'))\n",
    "\n",
    "PROJECT_ROOT = project_root()\n",
    "DATA_DIR = os.path.join(PROJECT_ROOT, 'data')\n",
    "\n",
    "# Usage\n",
    "#fn = os.path.join(DATA_DIR, 'daily_wind_Nebraska_statistics_2019.nc')\n",
    "#print(fn)  # Always absolute and correct!\n"
   ]
  },
  {
   "cell_type": "code",
   "execution_count": 4,
   "id": "d7e05748",
   "metadata": {},
   "outputs": [
    {
     "name": "stdout",
     "output_type": "stream",
     "text": [
      "Found 8 NetCDF files to combine in '/Users/babak.jfard/projects/PSIF/data/winds':\n",
      "  - daily_wind_Nebraska_statistics_2016.nc\n",
      "  - daily_wind_Nebraska_statistics_2017.nc\n",
      "  - daily_wind_Nebraska_statistics_2018.nc\n",
      "  - daily_wind_Nebraska_statistics_2019.nc\n",
      "  - daily_wind_Nebraska_statistics_2020.nc\n",
      "  - daily_wind_Nebraska_statistics_2021.nc\n",
      "  - daily_wind_Nebraska_statistics_2022.nc\n",
      "  - daily_wind_Nebraska_statistics_2023.nc\n",
      "\n",
      "Combined dataset information:\n",
      "Dimensions: {'time': 1010, 'lat': 40, 'lon': 91}\n",
      "Time range: 2016-01-29T00:00:00.000000000 to 2023-06-03T00:00:00.000000000\n"
     ]
    },
    {
     "name": "stderr",
     "output_type": "stream",
     "text": [
      "/Users/babak.jfard/projects/PSIF/psif_lib/data_access.py:55: FutureWarning: The return type of `Dataset.dims` will be changed to return a set of dimension names in future, in order to be more consistent with `DataArray.dims`. To access a mapping from dimension names to lengths, please use `Dataset.sizes`.\n",
      "  print(f\"Dimensions: {dict(combined_ds.dims)}\")\n"
     ]
    }
   ],
   "source": [
    "winds_path = os.path.join(DATA_DIR, 'winds')\n",
    "winds = data_access.combine_netcdf_files(winds_path)"
   ]
  },
  {
   "cell_type": "code",
   "execution_count": 5,
   "id": "eeb0cc05",
   "metadata": {},
   "outputs": [],
   "source": [
    "fires_path = os.path.join(DATA_DIR, 'fires', 'fire_archive_M-C61_581147.csv')\n",
    "fires = pd.read_csv(fires_path)"
   ]
  },
  {
   "cell_type": "code",
   "execution_count": 6,
   "id": "ffdeb97e",
   "metadata": {},
   "outputs": [],
   "source": [
    "fires_with_wind = wu.get_wind_at_fire(fires=fires, ds_wind=winds)"
   ]
  },
  {
   "cell_type": "code",
   "execution_count": 7,
   "id": "74432b2e",
   "metadata": {},
   "outputs": [],
   "source": [
    "# Making sure to include fires in the required time period\n",
    "fires_with_wind = pr.filter_by_month_day(fires_with_wind,\n",
    "                                     date_col=\"acq_date\",\n",
    "                                     start_md=\"01-29\",\n",
    "                                     end_md=\"06-01\")\n"
   ]
  },
  {
   "cell_type": "code",
   "execution_count": 8,
   "id": "d9c73472",
   "metadata": {},
   "outputs": [],
   "source": [
    "# Get the Block Group Centroids\n",
    "BG_path = os.path.join(DATA_DIR, 'aux', 'NE-BlockGroups-Centers_of_population.csv')\n",
    "BGs = pd.read_csv(BG_path)"
   ]
  },
  {
   "cell_type": "code",
   "execution_count": 9,
   "id": "ef3848cf",
   "metadata": {},
   "outputs": [],
   "source": [
    "# Creating the GEOID for the BGs\n",
    "pieces = [\n",
    "    BGs['STATEFP'].astype(str).str.zfill(2),\n",
    "    BGs['COUNTYFP'].astype(str).str.zfill(3),   # pad to 3\n",
    "    BGs['TRACTCE'].astype(str).str.zfill(6),\n",
    "    BGs['BLKGRPCE'].astype(str).str.zfill(1)\n",
    "]\n",
    "BGs[\"GEOID\"] = pd.concat(pieces, axis=1).agg(\"\".join, axis=1)\n",
    "BGs.drop(columns=['STATEFP', 'COUNTYFP', 'TRACTCE', 'BLKGRPCE'], inplace=True)"
   ]
  },
  {
   "cell_type": "code",
   "execution_count": 10,
   "id": "941a3b51",
   "metadata": {},
   "outputs": [],
   "source": [
    "fires_with_wind = pr.prep_fires(fires_with_wind)\n",
    "BGs.rename(columns={'LATITUDE':'latitude', 'LONGITUDE': 'longitude'}, inplace=True)\n",
    "BGs_final = pr.prep_bgs(BGs)\n",
    "\n",
    "\n",
    "pairs = pr.fire_bg_pairs(fires_with_wind, BGs_final)\n",
    "# adding the wind probabilities at BG\n",
    "pairs.rename(columns={'latitude_bg': 'latitude', 'longitude_bg': 'longitude'}, inplace=True)\n",
    "pairs = wu.get_wind_at_fire(winds, pairs, \"_bg\")\n",
    "\n",
    "PSIF_BG_level = pr.psif_from_pairs(pairs)"
   ]
  },
  {
   "cell_type": "code",
   "execution_count": 11,
   "id": "1f62cff1",
   "metadata": {},
   "outputs": [],
   "source": [
    "PSIF_with_moving = pr.calculate_moving_average(PSIF_BG_level, 'PSIF', 'GEOID','01/28', '05/31')"
   ]
  },
  {
   "cell_type": "code",
   "execution_count": 17,
   "id": "c7cb6333",
   "metadata": {},
   "outputs": [],
   "source": [
    "PSIF_with_moving['PSIF_Total'] = PSIF_with_moving['PSIF']+ PSIF_with_moving['moving_avg']"
   ]
  },
  {
   "cell_type": "code",
   "execution_count": 18,
   "id": "e0794240",
   "metadata": {},
   "outputs": [],
   "source": [
    "PSIF_with_moving.to_csv('../data/output_test/PSIF_BGs_NE.csv')"
   ]
  },
  {
   "cell_type": "code",
   "execution_count": 19,
   "id": "f53899fb",
   "metadata": {},
   "outputs": [],
   "source": [
    "# Converting into zcta level\n",
    "BG_to_ZCTA_map = pd.read_csv('../data/aux/Nebraska_BG_zcta_crosswalk.csv')\n",
    "BG_to_ZCTA_map.drop(index=0, inplace=True)\n",
    "\n",
    "def format_tract(tract):\n",
    "    # Remove decimal and pad to 6 digits\n",
    "    tract_str = str(tract)\n",
    "    if '.' in tract_str:\n",
    "        left, right = tract_str.split('.')\n",
    "        right = right.ljust(2, '0')  # Ensure two digits after decimal\n",
    "        tract_str = left.zfill(4) + right\n",
    "    else:\n",
    "        tract_str = tract_str.zfill(6)\n",
    "    return tract_str\n",
    "\n",
    "BG_to_ZCTA_map['tract_str'] = BG_to_ZCTA_map['tract'].apply(format_tract)\n",
    "\n",
    "# county: pad to 3 digits, blockgroup: as string\n",
    "BG_to_ZCTA_map['county_str'] = BG_to_ZCTA_map['county'].astype(str).str.zfill(3)\n",
    "BG_to_ZCTA_map['blockgroup_str'] = BG_to_ZCTA_map['blockgroup'].astype(str)\n",
    "\n",
    "# Now construct GEOID\n",
    "BG_to_ZCTA_map['GEOID'] = (\n",
    "    BG_to_ZCTA_map['county_str'] +\n",
    "    BG_to_ZCTA_map['tract_str'] +\n",
    "    BG_to_ZCTA_map['blockgroup_str']\n",
    ")"
   ]
  },
  {
   "cell_type": "code",
   "execution_count": 20,
   "id": "7430b28c",
   "metadata": {},
   "outputs": [],
   "source": [
    "BG_to_ZCTA_map['afact'] = pd.to_numeric(BG_to_ZCTA_map['afact'], errors='coerce')\n",
    "BG_to_ZCTA_map['afact'] = BG_to_ZCTA_map['afact'].astype('float64')"
   ]
  },
  {
   "cell_type": "code",
   "execution_count": 21,
   "id": "dea0c9d6",
   "metadata": {},
   "outputs": [],
   "source": [
    "# Now you can merge as before\n",
    "merged = pd.merge(PSIF_with_moving, BG_to_ZCTA_map[['GEOID', 'zcta', 'afact']], on='GEOID', how='left')\n",
    "merged['weighted_psif'] = merged['PSIF_Total'] * merged['afact']\n",
    "#merged['weighted_mav'] = merged['moving_avg'] * merged['afact']\n",
    "\n",
    "\n",
    "zcta_psif = (\n",
    "    merged.groupby(['zcta', 'acq_date'], as_index=False)\n",
    "    .agg(\n",
    "        zcta_psif=('weighted_psif', 'sum')\n",
    "    ))"
   ]
  },
  {
   "cell_type": "code",
   "execution_count": 22,
   "id": "322dcbd8",
   "metadata": {},
   "outputs": [],
   "source": [
    "PSIF_with_moving.to_csv('../data/output_test/Nebraska_BlockGroup_PSIF.csv', index=False)"
   ]
  }
 ],
 "metadata": {
  "kernelspec": {
   "display_name": "newgeo",
   "language": "python",
   "name": "python3"
  },
  "language_info": {
   "codemirror_mode": {
    "name": "ipython",
    "version": 3
   },
   "file_extension": ".py",
   "mimetype": "text/x-python",
   "name": "python",
   "nbconvert_exporter": "python",
   "pygments_lexer": "ipython3",
   "version": "3.11.6"
  }
 },
 "nbformat": 4,
 "nbformat_minor": 5
}
